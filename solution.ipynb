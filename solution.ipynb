{
 "cells": [
  {
   "cell_type": "code",
   "execution_count": null,
   "metadata": {},
   "outputs": [],
   "source": [
    "import imageio.v3 as iio\n",
    "from typing import Dict\n",
    "import numpy as np\n",
    "import os"
   ]
  },
  {
   "cell_type": "code",
   "execution_count": null,
   "metadata": {},
   "outputs": [],
   "source": [
    "import matplotlib.pyplot as plt\n",
    "os.chdir(\"test_cases\")\n",
    "os.getcwd()"
   ]
  },
  {
   "cell_type": "code",
   "execution_count": null,
   "metadata": {},
   "outputs": [],
   "source": [
    "def input(low_input: str, high_input: str):\n",
    "    img_low = {}\n",
    "    for i in range(0,4):\n",
    "        img_low[i] = iio.imread(f\"{low_input}{i}.png\")\n",
    "\n",
    "    img_high = iio.imread(f\"{high_input}.png\")\n",
    "    \n",
    "    return img_low, img_high\n",
    "\n",
    "def rmse(img_high: np.array, img_high_calculated: np.array):\n",
    "    error = np.sqrt(((img_high - img_high_calculated)**2).sum()/img_high.size)\n",
    "    print(f\"{error:.4f}\") \n",
    "\n",
    "\n",
    "def intercalate(img1: np.array,img2: np.array):\n",
    "    \n",
    "    N, M = img1.shape\n",
    "    img3 = np.empty( [N, M+M], dtype=img1.dtype)\n",
    "\n",
    "    for row in range(0, img3.shape[0]):\n",
    "        img3[row][0::2] = img1[row]\n",
    "        img3[row][1::2] = img2[row]\n",
    "\n",
    "    return img3\n",
    "    \n",
    "def superresolution(img_dict: Dict[int, np.array]):\n",
    "\n",
    "    img1 = intercalate(img_dict[0],img_dict[2])\n",
    "    img2 = intercalate(img_dict[1],img_dict[3])\n",
    "\n",
    "    N, M = img1.shape\n",
    "    img3 = np.empty([N+N, M], dtype=img1.dtype)\n",
    "    img3[0::2] = img1\n",
    "    img3[1::2] = img2\n",
    "    \n",
    "    return img3\n",
    "\n",
    "def histogram(img: np.array, n_levels: int):\n",
    "    \n",
    "    N, M = img.shape\n",
    "    hist = np.empty(n_levels, dtype=int)\n",
    "    for level in range(n_levels):\n",
    "        hist[level] = np.sum(img == level)\n",
    "        \n",
    "    return hist\n",
    "\n",
    "def histogram_equalization(img: np.array, n_levels: int):\n",
    "    hist = histogram(img, n_levels)\n",
    "    histC = np.empty(n_levels, dtype=int)\n",
    "    \n",
    "    histC[0] = hist[0]\n",
    "    for i in range(1, n_levels):\n",
    "        histC[i] = hist[i] + histC[i-1]\n",
    "    \n",
    "    N, M = img.shape    \n",
    "    new_img = np.empty([N,M], dtype = img.dtype)\n",
    "    for level in range(n_levels):\n",
    "        new_img[np.where(img == level)] = (n_levels-1)*histC[level]/(N*M)\n",
    "    \n",
    "    return new_img\n",
    "\n",
    "def single_image_cumulative_histogram(img_dict: Dict[int, np.array], n_levels: int):\n",
    "    \n",
    "    new_img_dict = {}\n",
    "    for key in img_dict:\n",
    "        new_img_dict[key] = histogram_equalization(img_dict[key], n_levels)\n",
    "        \n",
    "    new_img = superresolution(new_img_dict)\n",
    "    return new_img"
   ]
  },
  {
   "cell_type": "code",
   "execution_count": null,
   "metadata": {},
   "outputs": [],
   "source": [
    "def img_subplot(img, subplot):\n",
    "    plt.subplot(subplot)\n",
    "    plt.imshow(img, cmap = \"gray\")\n",
    "    plt.axis(\"off\")\n",
    "\n",
    "def hist_subplot(img, subplot):\n",
    "    \n",
    "    plt.subplot(subplot)\n",
    "    plt.bar(range(0,256), histogram(img_high, 256))\n",
    "    plt.xlabel(\"Graylevel/Intensity\")\n",
    "    plt.ylabel(\"Frequency\")    "
   ]
  },
  {
   "cell_type": "code",
   "execution_count": null,
   "metadata": {},
   "outputs": [],
   "source": [
    "img_low, img_high = input(\"01_low\",\"01_high\")"
   ]
  },
  {
   "cell_type": "code",
   "execution_count": null,
   "metadata": {},
   "outputs": [],
   "source": [
    "plt.figure(figsize=(8,8))\n",
    "\n",
    "img_subplot(img_low[0], 321)\n",
    "img_subplot(img_low[1], 322)\n",
    "img_subplot(img_low[2], 323)\n",
    "img_subplot(img_low[3], 324)\n",
    "img_subplot(img_high, 325)"
   ]
  },
  {
   "cell_type": "code",
   "execution_count": null,
   "metadata": {},
   "outputs": [],
   "source": [
    "img_high_calculated = superresolution(img_low)"
   ]
  },
  {
   "cell_type": "code",
   "execution_count": null,
   "metadata": {},
   "outputs": [],
   "source": [
    "plt.figure(figsize=(12,12))\n",
    "img_subplot(img_high_calculated, 121)\n",
    "img_subplot(img_high, 122)"
   ]
  },
  {
   "cell_type": "code",
   "execution_count": null,
   "metadata": {},
   "outputs": [],
   "source": [
    "def histogram(img: np.array, n_levels: int):\n",
    "    \n",
    "    hist = np.empty(n_levels, dtype=int)\n",
    "    for level in range(n_levels):\n",
    "        hist[level] = np.sum(img == level)\n",
    "        \n",
    "    return hist"
   ]
  },
  {
   "cell_type": "code",
   "execution_count": null,
   "metadata": {},
   "outputs": [],
   "source": [
    "\n",
    "def cumulative_histogram(hist: np.array, n_levels: int):\n",
    "    histC = np.empty(n_levels, dtype=int)\n",
    "\n",
    "    histC[0] = hist[0]\n",
    "    for i in range(1, n_levels):\n",
    "        histC[i] = hist[i] + histC[i-1]\n",
    "    \n",
    "    return histC\n",
    "\n",
    "def histogram_equalization(img: np.array, n_levels: int, \n",
    "    joint: bool  = False, img_dict: Dict[int, np.array] = None):\n",
    "    \n",
    "    N, M = img.shape\n",
    "    if joint is True:\n",
    "        img = np.empty([N,M], dtype=img_dict[0].dtype)\n",
    "        for key in img_dict:\n",
    "            img = img + img_dict[key]\n",
    "        \n",
    "    hist = histogram(img, n_levels)\n",
    "    histC = cumulative_histogram(hist, n_levels)            \n",
    "        \n",
    "    new_img = np.empty([N,M], dtype = img.dtype)\n",
    "    for level in range(n_levels):\n",
    "        L = (n_levels-1)*histC[level]/(N*M)\n",
    "        new_img[np.where(img == level)] = L\n",
    "    \n",
    "    return new_img, histC\n"
   ]
  },
  {
   "cell_type": "code",
   "execution_count": null,
   "metadata": {},
   "outputs": [],
   "source": [
    "new_img, histC = histogram_equalization(img_low[0], 256, joint=True, img_dict=img_low)\n",
    "\n",
    "img_subplot(new_img, 121)\n",
    "\n",
    "img_subplot(img_low[0], 122)"
   ]
  },
  {
   "cell_type": "code",
   "execution_count": null,
   "metadata": {},
   "outputs": [],
   "source": [
    "def joint_cumulative_histogram(img_dict: Dict[int, np.array], n_levels: int):\n",
    "    \n",
    "    new_img_dict = {}\n",
    "    for key in img_dict:\n",
    "        new_img_dict[key] = histogram_equalization(img_dict[key], n_levels)\n",
    "        \n",
    "    new_img = superresolution(new_img_dict)\n",
    "    return new_img"
   ]
  },
  {
   "cell_type": "code",
   "execution_count": null,
   "metadata": {},
   "outputs": [],
   "source": [
    "new_img = single_image_cumulative_histogram(img_low, 256)\n",
    "rmse(img_high, new_img)"
   ]
  }
 ],
 "metadata": {
  "kernelspec": {
   "display_name": "Python 3",
   "language": "python",
   "name": "python3"
  },
  "language_info": {
   "codemirror_mode": {
    "name": "ipython",
    "version": 3
   },
   "file_extension": ".py",
   "mimetype": "text/x-python",
   "name": "python",
   "nbconvert_exporter": "python",
   "pygments_lexer": "ipython3",
   "version": "3.10.12"
  }
 },
 "nbformat": 4,
 "nbformat_minor": 2
}
